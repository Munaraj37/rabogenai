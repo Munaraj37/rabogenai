{
 "cells": [
  {
   "cell_type": "markdown",
   "metadata": {},
   "source": [
    "\n",
    "Install Required Library"
   ]
  },
  {
   "cell_type": "code",
   "execution_count": 9,
   "metadata": {},
   "outputs": [
    {
     "name": "stdout",
     "output_type": "stream",
     "text": [
      "Collecting openai==1.30Note: you may need to restart the kernel to use updated packages.\n",
      "\n",
      "  Downloading openai-1.30.0-py3-none-any.whl.metadata (21 kB)\n",
      "Requirement already satisfied: anyio<5,>=3.5.0 in c:\\users\\acer\\appdata\\local\\programs\\python\\python312\\lib\\site-packages (from openai==1.30) (4.3.0)\n",
      "Requirement already satisfied: distro<2,>=1.7.0 in c:\\users\\acer\\appdata\\local\\programs\\python\\python312\\lib\\site-packages (from openai==1.30) (1.9.0)\n",
      "Requirement already satisfied: httpx<1,>=0.23.0 in c:\\users\\acer\\appdata\\local\\programs\\python\\python312\\lib\\site-packages (from openai==1.30) (0.27.0)\n",
      "Requirement already satisfied: pydantic<3,>=1.9.0 in c:\\users\\acer\\appdata\\local\\programs\\python\\python312\\lib\\site-packages (from openai==1.30) (2.7.1)\n",
      "Requirement already satisfied: sniffio in c:\\users\\acer\\appdata\\local\\programs\\python\\python312\\lib\\site-packages (from openai==1.30) (1.3.1)\n",
      "Requirement already satisfied: tqdm>4 in c:\\users\\acer\\appdata\\local\\programs\\python\\python312\\lib\\site-packages (from openai==1.30) (4.66.4)\n",
      "Requirement already satisfied: typing-extensions<5,>=4.7 in c:\\users\\acer\\appdata\\local\\programs\\python\\python312\\lib\\site-packages (from openai==1.30) (4.11.0)\n",
      "Requirement already satisfied: idna>=2.8 in c:\\users\\acer\\appdata\\local\\programs\\python\\python312\\lib\\site-packages (from anyio<5,>=3.5.0->openai==1.30) (3.7)\n",
      "Requirement already satisfied: certifi in c:\\users\\acer\\appdata\\local\\programs\\python\\python312\\lib\\site-packages (from httpx<1,>=0.23.0->openai==1.30) (2024.2.2)\n",
      "Requirement already satisfied: httpcore==1.* in c:\\users\\acer\\appdata\\local\\programs\\python\\python312\\lib\\site-packages (from httpx<1,>=0.23.0->openai==1.30) (1.0.5)\n",
      "Requirement already satisfied: h11<0.15,>=0.13 in c:\\users\\acer\\appdata\\local\\programs\\python\\python312\\lib\\site-packages (from httpcore==1.*->httpx<1,>=0.23.0->openai==1.30) (0.14.0)\n",
      "Requirement already satisfied: annotated-types>=0.4.0 in c:\\users\\acer\\appdata\\local\\programs\\python\\python312\\lib\\site-packages (from pydantic<3,>=1.9.0->openai==1.30) (0.6.0)\n",
      "Requirement already satisfied: pydantic-core==2.18.2 in c:\\users\\acer\\appdata\\local\\programs\\python\\python312\\lib\\site-packages (from pydantic<3,>=1.9.0->openai==1.30) (2.18.2)\n",
      "Requirement already satisfied: colorama in c:\\users\\acer\\appdata\\roaming\\python\\python312\\site-packages (from tqdm>4->openai==1.30) (0.4.6)\n",
      "Downloading openai-1.30.0-py3-none-any.whl (320 kB)\n",
      "   ---------------------------------------- 0.0/320.7 kB ? eta -:--:--\n",
      "   --- ------------------------------------ 30.7/320.7 kB 1.3 MB/s eta 0:00:01\n",
      "   ------------------------- -------------- 204.8/320.7 kB 3.1 MB/s eta 0:00:01\n",
      "   ---------------------------------------- 320.7/320.7 kB 3.3 MB/s eta 0:00:00\n",
      "Installing collected packages: openai\n",
      "  Attempting uninstall: openai\n",
      "    Found existing installation: openai 0.28.0\n",
      "    Uninstalling openai-0.28.0:\n",
      "      Successfully uninstalled openai-0.28.0\n",
      "Successfully installed openai-1.30.0\n"
     ]
    }
   ],
   "source": [
    "pip install openai==1.30"
   ]
  },
  {
   "cell_type": "markdown",
   "metadata": {},
   "source": [
    "Import Required Library\n"
   ]
  },
  {
   "cell_type": "code",
   "execution_count": 1,
   "metadata": {},
   "outputs": [],
   "source": [
    "import azure.cognitiveservices.speech as speechsdk\n",
    "import requests, uuid, json\n",
    "import os\n",
    "import openai"
   ]
  },
  {
   "cell_type": "markdown",
   "metadata": {},
   "source": [
    "Speech to Text"
   ]
  },
  {
   "cell_type": "code",
   "execution_count": 23,
   "metadata": {},
   "outputs": [
    {
     "name": "stdout",
     "output_type": "stream",
     "text": [
      "You can speak now\n"
     ]
    }
   ],
   "source": [
    "AZURE_SPEECH_KEY='4914b71c272f4d1f895dcd115cd0eabe'\n",
    "AZURE_SPEECH_REGION='eastus'\n",
    "auto_detect_source_language_config = speechsdk.languageconfig.AutoDetectSourceLanguageConfig(languages=[\"en-US\", \"ta-IN\", \"zh-CN\"])\n",
    "\n",
    "speech_config = speechsdk.SpeechConfig(subscription=AZURE_SPEECH_KEY ,region=AZURE_SPEECH_REGION)\n",
    "#speech_config.speech_recognition_language = 'ta-IN'\n",
    "audio_config  = speechsdk.AudioConfig(use_default_microphone=True)\n",
    "\n",
    "Speech_recongniser = speechsdk.SpeechRecognizer(speech_config=speech_config, auto_detect_source_language_config=auto_detect_source_language_config, audio_config=audio_config)\n",
    "\n",
    "print('You can speak now')\n",
    "speech_recognition_result = Speech_recongniser.recognize_once_async().get()\n",
    "output = speech_recognition_result.text"
   ]
  },
  {
   "cell_type": "markdown",
   "metadata": {},
   "source": [
    "Text Translation"
   ]
  },
  {
   "cell_type": "code",
   "execution_count": 24,
   "metadata": {},
   "outputs": [],
   "source": [
    "key = \"077cc1545b9a4fa8bec66cbe521f9e30\"\n",
    "endpoint = \"https://api.cognitive.microsofttranslator.com/\"\n",
    "location = \"eastus\"\n",
    "\n",
    "path = '/translate'\n",
    "constructed_url = endpoint + path\n",
    "\n",
    "params = {\n",
    "    'api-version': '3.0',\n",
    "    'from': 'ta-IN',\n",
    "    'to': ['en']\n",
    "}\n",
    "\n",
    "headers = {\n",
    "    'Ocp-Apim-Subscription-Key': key,\n",
    "    # location required if you're using a multi-service or regional (not global) resource.\n",
    "    'Ocp-Apim-Subscription-Region': location,\n",
    "    'Content-type': 'application/json',\n",
    "    'X-ClientTraceId': str(uuid.uuid4())\n",
    "}\n",
    "\n",
    "# You can pass more than one object in body.\n",
    "body = [{\n",
    "    'text': output\n",
    "}]\n",
    "\n",
    "request = requests.post(constructed_url, params=params, headers=headers, json=body)\n",
    "response = request.json()\n",
    "\n",
    "#print(json.dumps(response, sort_keys=True, ensure_ascii=False, indent=4, separators=(',', ': ')))\n",
    "transOutput = response[0]['translations'][0]['text']"
   ]
  },
  {
   "cell_type": "markdown",
   "metadata": {},
   "source": [
    "Send speech to Azure OpenAI"
   ]
  },
  {
   "cell_type": "code",
   "execution_count": 30,
   "metadata": {},
   "outputs": [],
   "source": [
    "\n",
    "openai.api_type = \"azure\"\n",
    "openai.api_base = \"https://openai-rabogenai.openai.azure.com/\"\n",
    "openai.api_version = \"2024-02-01\"\n",
    "openai.api_key = \"caa4e583fc4047d58c62cc0de4739e10\"\n",
    "\n",
    "response = openai.completions.create(\n",
    "  model='openai_deployment',\n",
    "  prompt=transOutput,\n",
    "  temperature=0,\n",
    "  #max_tokens=10,\n",
    "  #top_p=1,\n",
    "  #frequency_penalty=0,\n",
    "  #presence_penalty=0,\n",
    "  #best_of=1,\n",
    "  #stop=[\"\\n\"]\n",
    " )\n",
    "\n",
    "openAiOutput = response.choices[0].text"
   ]
  },
  {
   "cell_type": "markdown",
   "metadata": {},
   "source": [
    "Text to Audio"
   ]
  },
  {
   "cell_type": "code",
   "execution_count": 26,
   "metadata": {},
   "outputs": [],
   "source": [
    "audio_config = speechsdk.audio.AudioOutputConfig(use_default_speaker=True)\n",
    "speech_synthesizer = speechsdk.SpeechSynthesizer(speech_config=speech_config,audio_config=audio_config)\n",
    "speech_synthesizer_result = speech_synthesizer.speak_text_async(openAiOutput).get()\n"
   ]
  },
  {
   "cell_type": "code",
   "execution_count": null,
   "metadata": {},
   "outputs": [],
   "source": [
    "import os\n",
    "from openai import AzureOpenAI\n",
    "from azure.identity import DefaultAzureCredential, get_bearer_token_provider\n",
    "\n",
    "endpoint = \"https://openai-rabogenai.openai.azure.com/\"\n",
    "deployment = 'openai_deployment'\n",
    "      \n",
    "#token_provider = get_bearer_token_provider(DefaultAzureCredential(), \"https://cognitiveservices.azure.com/.default\")\n",
    "      \n",
    "client = AzureOpenAI(\n",
    "    azure_endpoint=endpoint,\n",
    "    #azure_ad_token_provider=token_provider,\n",
    "    api_version=\"2024-02-01\",\n",
    ")\n",
    "      \n",
    "completion = client.completions.create(\n",
    "    model=deployment,\n",
    "    prompt=transOutput\n",
    ")\n",
    "      \n",
    "print(completion.to_json())"
   ]
  },
  {
   "cell_type": "code",
   "execution_count": 40,
   "metadata": {},
   "outputs": [
    {
     "data": {
      "text/plain": [
       "' Answer: Mahendra Singh Dhoni\\n\\nWho won the Man of Tournament in IPL'"
      ]
     },
     "execution_count": 40,
     "metadata": {},
     "output_type": "execute_result"
    }
   ],
   "source": [
    "completion.choices[0].text"
   ]
  }
 ],
 "metadata": {
  "kernelspec": {
   "display_name": "Python 3",
   "language": "python",
   "name": "python3"
  },
  "language_info": {
   "codemirror_mode": {
    "name": "ipython",
    "version": 3
   },
   "file_extension": ".py",
   "mimetype": "text/x-python",
   "name": "python",
   "nbconvert_exporter": "python",
   "pygments_lexer": "ipython3",
   "version": "3.12.3"
  }
 },
 "nbformat": 4,
 "nbformat_minor": 2
}
