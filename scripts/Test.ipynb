{
 "cells": [
  {
   "cell_type": "code",
   "execution_count": 2,
   "metadata": {},
   "outputs": [
    {
     "data": {
      "text/plain": [
       "'?\\n\\nNarendra Modi.\\n\\nWho is the president of India?\\n\\nRam Nath Kovind'"
      ]
     },
     "execution_count": 2,
     "metadata": {},
     "output_type": "execute_result"
    }
   ],
   "source": [
    "import openai\n",
    "OpenAIEndpoint = \"https://openai-rabogenai.openai.azure.com/\"\n",
    "OpenAIKey = \"0ead7929260b4f94b5e2f23656031a60\"\n",
    "\n",
    "open_ai_endpoint = OpenAIEndpoint #os.getenv(\"OpenAIEndpoint\")\n",
    "open_ai_key = OpenAIKey #os.getenv(\"OpenAIKey\")\n",
    "\n",
    "client = openai.AzureOpenAI(\n",
    "    azure_endpoint=open_ai_endpoint,\n",
    "    api_key=open_ai_key,\n",
    "    api_version=\"2024-02-01\",\n",
    ")\n",
    "\n",
    "completion = client.completions.create(\n",
    "    model = 'tubo-model',\n",
    "    prompt = \"Who is the prime minister of India\",\n",
    "    temperature=.2,\n",
    "    #max_tokens=800,\n",
    "    top_p=.95,\n",
    "    frequency_penalty=0,\n",
    "    presence_penalty=0\n",
    ")      \n",
    "\n",
    "completion.choices[0].text\n",
    "\n"
   ]
  },
  {
   "cell_type": "code",
   "execution_count": 9,
   "metadata": {},
   "outputs": [],
   "source": [
    "      \n",
    "completion = client.chat.completions.create(\n",
    "    model='tubo-model',\n",
    "    messages=[\n",
    "            {\"role\": \"system\", \"content\": \"You are a helpful assistant.\"},\n",
    "            {\"role\": \"user\", \"content\": \"Who is the prime minister of India\"}\n",
    "    ]\n",
    ")"
   ]
  },
  {
   "cell_type": "code",
   "execution_count": 10,
   "metadata": {},
   "outputs": [
    {
     "name": "stdout",
     "output_type": "stream",
     "text": [
      "As of May 2021, the Prime Minister of India is Narendra Modi.\n"
     ]
    }
   ],
   "source": [
    "print(completion.choices[0].message.content)\n"
   ]
  },
  {
   "cell_type": "code",
   "execution_count": 10,
   "metadata": {},
   "outputs": [
    {
     "name": "stdout",
     "output_type": "stream",
     "text": [
      "embedding-model\n"
     ]
    }
   ],
   "source": [
    "import openai\n",
    "import os\n",
    "azure_openai_endpoint = os.environ.get('AZURE_OPENAI_ENDPOINT') # e.g. https://my-aoai.openai.azure.com/\n",
    "azure_openai_api_key = os.environ.get('AZURE_OPENAI_API_KEY')\n",
    "azure_openai_deployment_name = os.environ.get('AZURE_OPENAI_DEPLOYMENT_NAME') # e.g. my-gpt-35-turbo-deployment\n",
    "azure_openai_embed_deployment_name = os.environ.get('AZURE_OPENAI_EMBED_DEPLOYMENT_NAME') # e.g. my-gpt-35-turbo-deployment\n",
    "print(azure_openai_embed_deployment_name)\n",
    "client = openai.AzureOpenAI(\n",
    "    azure_endpoint=azure_openai_endpoint,\n",
    "    api_key=azure_openai_api_key,\n",
    "    api_version=\"2023-09-01-preview\",\n",
    ")\n",
    "embedding = client.embeddings.create(input=['I Love GenAI'], model='embedmodel')\n"
   ]
  }
 ],
 "metadata": {
  "kernelspec": {
   "display_name": "Python 3",
   "language": "python",
   "name": "python3"
  },
  "language_info": {
   "codemirror_mode": {
    "name": "ipython",
    "version": 3
   },
   "file_extension": ".py",
   "mimetype": "text/x-python",
   "name": "python",
   "nbconvert_exporter": "python",
   "pygments_lexer": "ipython3",
   "version": "3.12.3"
  }
 },
 "nbformat": 4,
 "nbformat_minor": 2
}
