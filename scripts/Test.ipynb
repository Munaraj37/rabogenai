{
 "cells": [
  {
   "cell_type": "code",
   "execution_count": 5,
   "metadata": {},
   "outputs": [
    {
     "name": "stdout",
     "output_type": "stream",
     "text": [
      "Started\n"
     ]
    },
    {
     "ename": "HttpResponseError",
     "evalue": "() Authorization failed.\nCode: \nMessage: Authorization failed.",
     "output_type": "error",
     "traceback": [
      "\u001b[1;31m---------------------------------------------------------------------------\u001b[0m",
      "\u001b[1;31mHttpResponseError\u001b[0m                         Traceback (most recent call last)",
      "Cell \u001b[1;32mIn[5], line 97\u001b[0m\n\u001b[0;32m     95\u001b[0m index_client \u001b[38;5;241m=\u001b[39m SearchIndexClient(service_endpoint, credential)\n\u001b[0;32m     96\u001b[0m index \u001b[38;5;241m=\u001b[39m get_hotel_index(index_name)\n\u001b[1;32m---> 97\u001b[0m \u001b[43mindex_client\u001b[49m\u001b[38;5;241;43m.\u001b[39;49m\u001b[43mcreate_index\u001b[49m\u001b[43m(\u001b[49m\u001b[43mindex\u001b[49m\u001b[43m)\u001b[49m\n\u001b[0;32m     98\u001b[0m \u001b[38;5;28mprint\u001b[39m(\u001b[38;5;124m\"\u001b[39m\u001b[38;5;124mIndex Config\u001b[39m\u001b[38;5;124m\"\u001b[39m)\n\u001b[0;32m     99\u001b[0m client \u001b[38;5;241m=\u001b[39m SearchClient(service_endpoint, index_name, credential)\n",
      "File \u001b[1;32mc:\\Users\\ACER\\AppData\\Local\\Programs\\Python\\Python312\\Lib\\site-packages\\azure\\core\\tracing\\decorator.py:78\u001b[0m, in \u001b[0;36mdistributed_trace.<locals>.decorator.<locals>.wrapper_use_tracer\u001b[1;34m(*args, **kwargs)\u001b[0m\n\u001b[0;32m     76\u001b[0m span_impl_type \u001b[38;5;241m=\u001b[39m settings\u001b[38;5;241m.\u001b[39mtracing_implementation()\n\u001b[0;32m     77\u001b[0m \u001b[38;5;28;01mif\u001b[39;00m span_impl_type \u001b[38;5;129;01mis\u001b[39;00m \u001b[38;5;28;01mNone\u001b[39;00m:\n\u001b[1;32m---> 78\u001b[0m     \u001b[38;5;28;01mreturn\u001b[39;00m \u001b[43mfunc\u001b[49m\u001b[43m(\u001b[49m\u001b[38;5;241;43m*\u001b[39;49m\u001b[43margs\u001b[49m\u001b[43m,\u001b[49m\u001b[43m \u001b[49m\u001b[38;5;241;43m*\u001b[39;49m\u001b[38;5;241;43m*\u001b[39;49m\u001b[43mkwargs\u001b[49m\u001b[43m)\u001b[49m\n\u001b[0;32m     80\u001b[0m \u001b[38;5;66;03m# Merge span is parameter is set, but only if no explicit parent are passed\u001b[39;00m\n\u001b[0;32m     81\u001b[0m \u001b[38;5;28;01mif\u001b[39;00m merge_span \u001b[38;5;129;01mand\u001b[39;00m \u001b[38;5;129;01mnot\u001b[39;00m passed_in_parent:\n",
      "File \u001b[1;32mc:\\Users\\ACER\\AppData\\Local\\Programs\\Python\\Python312\\Lib\\site-packages\\azure\\search\\documents\\indexes\\_search_index_client.py:219\u001b[0m, in \u001b[0;36mSearchIndexClient.create_index\u001b[1;34m(self, index, **kwargs)\u001b[0m\n\u001b[0;32m    217\u001b[0m kwargs[\u001b[38;5;124m\"\u001b[39m\u001b[38;5;124mheaders\u001b[39m\u001b[38;5;124m\"\u001b[39m] \u001b[38;5;241m=\u001b[39m \u001b[38;5;28mself\u001b[39m\u001b[38;5;241m.\u001b[39m_merge_client_headers(kwargs\u001b[38;5;241m.\u001b[39mget(\u001b[38;5;124m\"\u001b[39m\u001b[38;5;124mheaders\u001b[39m\u001b[38;5;124m\"\u001b[39m))\n\u001b[0;32m    218\u001b[0m patched_index \u001b[38;5;241m=\u001b[39m index\u001b[38;5;241m.\u001b[39m_to_generated()  \u001b[38;5;66;03m# pylint:disable=protected-access\u001b[39;00m\n\u001b[1;32m--> 219\u001b[0m result \u001b[38;5;241m=\u001b[39m \u001b[38;5;28;43mself\u001b[39;49m\u001b[38;5;241;43m.\u001b[39;49m\u001b[43m_client\u001b[49m\u001b[38;5;241;43m.\u001b[39;49m\u001b[43mindexes\u001b[49m\u001b[38;5;241;43m.\u001b[39;49m\u001b[43mcreate\u001b[49m\u001b[43m(\u001b[49m\u001b[43mpatched_index\u001b[49m\u001b[43m,\u001b[49m\u001b[43m \u001b[49m\u001b[38;5;241;43m*\u001b[39;49m\u001b[38;5;241;43m*\u001b[39;49m\u001b[43mkwargs\u001b[49m\u001b[43m)\u001b[49m\n\u001b[0;32m    220\u001b[0m \u001b[38;5;28;01mreturn\u001b[39;00m SearchIndex\u001b[38;5;241m.\u001b[39m_from_generated(result)\n",
      "File \u001b[1;32mc:\\Users\\ACER\\AppData\\Local\\Programs\\Python\\Python312\\Lib\\site-packages\\azure\\core\\tracing\\decorator.py:78\u001b[0m, in \u001b[0;36mdistributed_trace.<locals>.decorator.<locals>.wrapper_use_tracer\u001b[1;34m(*args, **kwargs)\u001b[0m\n\u001b[0;32m     76\u001b[0m span_impl_type \u001b[38;5;241m=\u001b[39m settings\u001b[38;5;241m.\u001b[39mtracing_implementation()\n\u001b[0;32m     77\u001b[0m \u001b[38;5;28;01mif\u001b[39;00m span_impl_type \u001b[38;5;129;01mis\u001b[39;00m \u001b[38;5;28;01mNone\u001b[39;00m:\n\u001b[1;32m---> 78\u001b[0m     \u001b[38;5;28;01mreturn\u001b[39;00m \u001b[43mfunc\u001b[49m\u001b[43m(\u001b[49m\u001b[38;5;241;43m*\u001b[39;49m\u001b[43margs\u001b[49m\u001b[43m,\u001b[49m\u001b[43m \u001b[49m\u001b[38;5;241;43m*\u001b[39;49m\u001b[38;5;241;43m*\u001b[39;49m\u001b[43mkwargs\u001b[49m\u001b[43m)\u001b[49m\n\u001b[0;32m     80\u001b[0m \u001b[38;5;66;03m# Merge span is parameter is set, but only if no explicit parent are passed\u001b[39;00m\n\u001b[0;32m     81\u001b[0m \u001b[38;5;28;01mif\u001b[39;00m merge_span \u001b[38;5;129;01mand\u001b[39;00m \u001b[38;5;129;01mnot\u001b[39;00m passed_in_parent:\n",
      "File \u001b[1;32mc:\\Users\\ACER\\AppData\\Local\\Programs\\Python\\Python312\\Lib\\site-packages\\azure\\search\\documents\\indexes\\_generated\\operations\\_indexes_operations.py:402\u001b[0m, in \u001b[0;36mIndexesOperations.create\u001b[1;34m(self, index, request_options, **kwargs)\u001b[0m\n\u001b[0;32m    400\u001b[0m     map_error(status_code\u001b[38;5;241m=\u001b[39mresponse\u001b[38;5;241m.\u001b[39mstatus_code, response\u001b[38;5;241m=\u001b[39mresponse, error_map\u001b[38;5;241m=\u001b[39merror_map)\n\u001b[0;32m    401\u001b[0m     error \u001b[38;5;241m=\u001b[39m \u001b[38;5;28mself\u001b[39m\u001b[38;5;241m.\u001b[39m_deserialize\u001b[38;5;241m.\u001b[39mfailsafe_deserialize(_models\u001b[38;5;241m.\u001b[39mSearchError, pipeline_response)\n\u001b[1;32m--> 402\u001b[0m     \u001b[38;5;28;01mraise\u001b[39;00m HttpResponseError(response\u001b[38;5;241m=\u001b[39mresponse, model\u001b[38;5;241m=\u001b[39merror)\n\u001b[0;32m    404\u001b[0m deserialized \u001b[38;5;241m=\u001b[39m \u001b[38;5;28mself\u001b[39m\u001b[38;5;241m.\u001b[39m_deserialize(\u001b[38;5;124m\"\u001b[39m\u001b[38;5;124mSearchIndex\u001b[39m\u001b[38;5;124m\"\u001b[39m, pipeline_response)\n\u001b[0;32m    406\u001b[0m \u001b[38;5;28;01mif\u001b[39;00m \u001b[38;5;28mcls\u001b[39m:\n",
      "\u001b[1;31mHttpResponseError\u001b[0m: () Authorization failed.\nCode: \nMessage: Authorization failed."
     ]
    }
   ],
   "source": [
    "\n",
    "import os\n",
    "\n",
    "from azure.core.credentials import AzureKeyCredential\n",
    "from azure.search.documents import SearchClient\n",
    "from azure.search.documents.indexes import SearchIndexClient\n",
    "from azure.search.documents.models import VectorizedQuery\n",
    "#from azure.search.documents.models import VectorizedQuery\n",
    "\n",
    "service_endpoint = 'https://csrabogenai.search.windows.net' #os.environ[\"AZURE_SEARCH_SERVICE_ENDPOINT\"]\n",
    "index_name = 'vrm-index2' #os.environ[\"AZURE_SEARCH_INDEX_NAME\"]\n",
    "key = 'x9q4J48TFwp4ago80LhWjjibGjzyTR1ztLVsJN8BKqAzSeAy9AGI' #os.environ[\"AZURE_SEARCH_API_KEY\"]\n",
    "\n",
    "OpenAIEndpoint = 'https://openai-rabogenai.openai.azure.com/'\n",
    "OpenAIKey = 'e91bf1f85ffd4f8b8ec5c7d87fcc1bc6'\n",
    "\n",
    "def get_document_info():\n",
    "\n",
    "    import json\n",
    "    import uuid\n",
    "    from langchain_community.document_loaders import PyPDFLoader\n",
    "    from langchain.text_splitter import CharacterTextSplitter\n",
    "\n",
    "    loader = PyPDFLoader(r\"D:\\Python\\input\\Constitution.pdf\")\n",
    "    documents = loader.load()\n",
    "\n",
    "    text_splitter = CharacterTextSplitter(chunk_size=1000,chunk_overlap=50)\n",
    "    documents = text_splitter.split_documents(documents)\n",
    "\n",
    "    docs = []\n",
    "    for doc in documents:\n",
    "        \n",
    "        docs.append({\"documentID\":str(uuid.uuid4()),\"content\":doc.page_content,\"embedding\":get_embeddings(doc.page_content)})\n",
    "        \n",
    "    json_data=json.dumps(docs)\n",
    "    \n",
    "    with open(r\"D:\\Python\\output\\HandbookContent.json\",\"w\") as f:\n",
    "        f.write(json_data)\n",
    "\n",
    "    with open(r\"D:\\Python\\output\\HandbookContent.json\",\"r\") as f:\n",
    "        document = json.load(f)\n",
    "\n",
    "    return document\n",
    "\n",
    "\n",
    "def get_embeddings(text: str):\n",
    "    # There are a few ways to get embeddings. This is just one example.\n",
    "    import openai\n",
    "\n",
    "    open_ai_endpoint = OpenAIEndpoint #os.getenv(\"OpenAIEndpoint\")\n",
    "    open_ai_key = OpenAIKey #os.getenv(\"OpenAIKey\")\n",
    "\n",
    "    client = openai.AzureOpenAI(\n",
    "        azure_endpoint=open_ai_endpoint,\n",
    "        api_key=open_ai_key,\n",
    "        api_version=\"2023-09-01-preview\",\n",
    "    )\n",
    "    embedding = client.embeddings.create(input=[text], model=\"embeddingmodel-rabogenai\")\n",
    "    return embedding.data[0].embedding\n",
    "\n",
    "\n",
    "def get_hotel_index(name: str):\n",
    "    from azure.search.documents.indexes.models import (\n",
    "        SearchIndex,\n",
    "        SearchField,\n",
    "        SearchFieldDataType,\n",
    "        SimpleField,\n",
    "        SearchableField,\n",
    "        VectorSearch,\n",
    "        VectorSearchProfile,\n",
    "        HnswAlgorithmConfiguration,\n",
    "    )\n",
    "\n",
    "    fields = [\n",
    "        SimpleField(name=\"documentID\", type=SearchFieldDataType.String, key=True),\n",
    "        SearchableField(name=\"content\", type=SearchFieldDataType.String),\n",
    "        SearchField(\n",
    "            name=\"embedding\",\n",
    "            type=SearchFieldDataType.Collection(SearchFieldDataType.Single),\n",
    "            searchable=True,\n",
    "            vector_search_dimensions=1536,\n",
    "            vector_search_profile_name=\"my-vector-config\",\n",
    "        )\n",
    "    ]\n",
    "\n",
    "    vector_search = VectorSearch(\n",
    "        profiles=[VectorSearchProfile(name=\"my-vector-config\", algorithm_configuration_name=\"my-algorithms-config\")],\n",
    "        algorithms=[HnswAlgorithmConfiguration(name=\"my-algorithms-config\")],\n",
    "    )\n",
    "    return SearchIndex(name=name, fields=fields, vector_search=vector_search)\n",
    "\n",
    "\n",
    "if __name__ == \"__main__\":\n",
    "    print(\"Started\")\n",
    "    credential = AzureKeyCredential(key)\n",
    "    index_client = SearchIndexClient(service_endpoint, credential)\n",
    "    index = get_hotel_index(index_name)\n",
    "    index_client.create_index(index)\n",
    "    print(\"Index Config\")\n",
    "    client = SearchClient(service_endpoint, index_name, credential)\n",
    "    hotel_docs = get_document_info()\n",
    "    print(\"Doc Loaded\")\n",
    "    #print(hotel_docs)\n",
    "    client.upload_documents(documents=hotel_docs)\n",
    "    print(\"Completed\")"
   ]
  },
  {
   "cell_type": "code",
   "execution_count": 172,
   "metadata": {},
   "outputs": [],
   "source": [
    "import openai\n",
    "\n",
    "CogAIEndpoint = 'https://acsrabogenai.search.windows.net'\n",
    "CogAIKey = 'Twy7mcmNDtpSyXgwIWPFNFiMahgK1Xh5ibl6Z8mVJgAzSeBjlsNU'\n",
    "\n",
    "search_client = SearchClient(CogAIEndpoint, index_name, AzureKeyCredential(CogAIKey))\n",
    "\n",
    "query = \"What is the Qualifications for election as President\"\n",
    "vector = VectorizedQuery(vector=get_embeddings(query),k_nearest_neighbors=2,fields=\"embedding\")\n",
    "\n",
    "results = search_client.search(\n",
    "    vector_queries=[vector],\n",
    "    select=[\"content\"]\n",
    ")\n",
    "\n",
    "input_text=\"\"\n",
    "for result in results:\n",
    "    input_text = input_text + result['content'] + \" \"\n",
    "\n"
   ]
  },
  {
   "cell_type": "code",
   "execution_count": 174,
   "metadata": {},
   "outputs": [
    {
     "data": {
      "text/plain": [
       "'?\\n\\nAnswer: According to Article 58 of the Indian Constitution, the qualifications for'"
      ]
     },
     "execution_count": 174,
     "metadata": {},
     "output_type": "execute_result"
    }
   ],
   "source": [
    "#openai.api_type = \"azure\"\n",
    "#openai.api_base = \"https://aoairabogenai.openai.azure.com/\"\n",
    "#openai.api_version = \"2024-02-01\"\n",
    "#openai.api_key = \"b1d16fbce07644668935410f4c54f74e\"\n",
    "\n",
    "open_ai_endpoint = OpenAIEndpoint #os.getenv(\"OpenAIEndpoint\")\n",
    "open_ai_key = OpenAIKey #os.getenv(\"OpenAIKey\")\n",
    "\n",
    "client = openai.AzureOpenAI(\n",
    "    azure_endpoint=open_ai_endpoint,\n",
    "    api_key=open_ai_key,\n",
    "    api_version=\"2023-09-01-preview\",\n",
    ")\n",
    "\n",
    "completion = client.completions.create(\n",
    "    model = 'openai-rabogenai',\n",
    "    prompt = f\"Answer Input:{input_text}. Question:{query}\",\n",
    "    #max_tokens=10,\n",
    "    #top_p=1,\n",
    "    #frequency_penalty=0,\n",
    "    #presence_penalty=0\n",
    ")      \n",
    "\n",
    "completion.choices[0].text\n",
    "\n"
   ]
  },
  {
   "cell_type": "code",
   "execution_count": 166,
   "metadata": {},
   "outputs": [
    {
     "data": {
      "text/plain": [
       "' of the Indian Constitution\\n\\nArticle 15 of the'"
      ]
     },
     "execution_count": 166,
     "metadata": {},
     "output_type": "execute_result"
    }
   ],
   "source": [
    "print(completion.choices[0].text)"
   ]
  }
 ],
 "metadata": {
  "kernelspec": {
   "display_name": "Python 3",
   "language": "python",
   "name": "python3"
  },
  "language_info": {
   "codemirror_mode": {
    "name": "ipython",
    "version": 3
   },
   "file_extension": ".py",
   "mimetype": "text/x-python",
   "name": "python",
   "nbconvert_exporter": "python",
   "pygments_lexer": "ipython3",
   "version": "3.12.3"
  }
 },
 "nbformat": 4,
 "nbformat_minor": 2
}
